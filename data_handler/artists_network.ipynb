{
 "cells": [
  {
   "cell_type": "markdown",
   "id": "1531011b-16e1-4bd3-95c0-76db4b46ffec",
   "metadata": {},
   "source": [
    "# Dataset: network of tracks and artists\n",
    "\n",
    "Notes:\n",
    "\n",
    "https://developer.spotify.com/documentation/web-api/reference/get-audio-features"
   ]
  },
  {
   "cell_type": "code",
   "execution_count": 1,
   "id": "32d37b16-7bb3-412b-b33d-e888fa60bbaf",
   "metadata": {
    "tags": []
   },
   "outputs": [
    {
     "name": "stdout",
     "output_type": "stream",
     "text": [
      "2024-01-21 12:28:54\n"
     ]
    },
    {
     "name": "stderr",
     "output_type": "stream",
     "text": [
      "/tmp/ipykernel_186959/3183433162.py:5: DeprecationWarning: \n",
      "Pyarrow will become a required dependency of pandas in the next major release of pandas (pandas 3.0),\n",
      "(to allow more performant data types, such as the Arrow string type, and better interoperability with other libraries)\n",
      "but was not found to be installed on your system.\n",
      "If this would cause problems for you,\n",
      "please provide us feedback at https://github.com/pandas-dev/pandas/issues/54466\n",
      "        \n",
      "  import pandas as pd\n"
     ]
    }
   ],
   "source": [
    "from spotification import constants\n",
    "from spotipy.oauth2 import SpotifyClientCredentials\n",
    "import spotipy\n",
    "import json\n",
    "import pandas as pd\n",
    "from datetime import datetime\n",
    "YMD_FMT = \"%Y-%m-%d %H:%M:%S\"\n",
    "CURR_TIME = datetime.now().strftime(YMD_FMT)\n",
    "print(CURR_TIME)\n",
    "pd.set_option('display.max_rows', 500)\n",
    "pd.set_option('display.max_columns', 500)\n",
    "pd.set_option('display.width', 1000)\n",
    "\n",
    "# Reference:\n",
    "# https://spotipy.readthedocs.io/en/2.22.1/#module-spotipy.client\n",
    "sp = spotipy.Spotify(auth_manager=SpotifyClientCredentials(client_id=constants.SPOTIFY_CLIENT_ID,\n",
    "                                                           client_secret=constants.SPOTIFY_CLIENT_SECRET))"
   ]
  },
  {
   "cell_type": "code",
   "execution_count": null,
   "id": "88e2a55d-7e0e-487e-9d12-919e8cf188fc",
   "metadata": {
    "tags": []
   },
   "outputs": [],
   "source": [
    "query = \"The 1975\"\n",
    "\n",
    "tracks_data = {}\n",
    "artists_data = {}\n",
    "network_data = [] # edges\n",
    "\n",
    "### We iterate over tracks as the fundamental unit of interest.\n",
    "results = sp.search(q=query, limit=3)\n",
    "for idx, track in enumerate(results['tracks']['items']):\n",
    "    ### For each track\n",
    "    \n",
    "    print(idx, track['id'], track['name'], '|||', ' ; '.join([t['name'] for t in track['artists']]))\n",
    "    track_id = track['id']\n",
    "    track_name = track['name']\n",
    "    track_date = track['album']['release_date'] # always has associated album\n",
    "    \n",
    "    ### Let track be the primitive unit of interest.\n",
    "    ### When we look up a track, populate:\n",
    "    ### 1. data for track\n",
    "    ### 2. data for its artist(s)\n",
    "    ### 3. edges for track-artist.\n",
    "    ### (ignore albums for now, noting a track-artist edge can have multiple release dates)\n",
    "    \n",
    "    ### ----------------------------------------------------------------------------------------\n",
    "    ### 1. data for track\n",
    "            \n",
    "    if track_id not in tracks_data:\n",
    "        rowdata = {}\n",
    "        \n",
    "        # get more album info\n",
    "        album_info = sp.album(track['album'][\"external_urls\"][\"spotify\"])\n",
    "        # can add albums as a third entity later if needed.\n",
    "\n",
    "        # construct dataframe\n",
    "        rowdata['date'] = track_date\n",
    "        rowdata['id'] = track_id\n",
    "        rowdata['name'] = track_name\n",
    "        rowdata['album'] = track['album']['name']\n",
    "        rowdata['album_genres'] = ';'.join(sorted(album_info['genres'])) # NULLABLE\n",
    "        rowdata['popularity'] = track['popularity']\n",
    "        rowdata['duration_seconds'] = track['duration_ms']/1000.0\n",
    "        rowdata['url'] = track['external_urls']['spotify']\n",
    "\n",
    "        # audio analysis for track\n",
    "        # https://developer.spotify.com/documentation/web-api/reference/get-audio-analysis\n",
    "        audio_analysis = sp.audio_analysis(track_id)\n",
    "        for field in ['loudness','tempo','tempo_confidence',\n",
    "                      'time_signature','time_signature_confidence',\n",
    "                      'key','key_confidence', 'mode','mode_confidence']:\n",
    "            rowdata[field] = audio_analysis['track'][field]\n",
    "\n",
    "        # audio features of a track\n",
    "        audio_features = sp.audio_features(track_id)[0] # list of tracks --> list of results\n",
    "        for field in ['danceability','energy','speechiness','acousticness','liveness','valence']:\n",
    "            rowdata[field] = audio_features[field]\n",
    "        tracks_data[track_id] = rowdata\n",
    "    \n",
    "    ### ----------------------------------------------------------------------------------------\n",
    "    ### 2. data for its artist(s)\n",
    "    \n",
    "    for artist in track['artists']:\n",
    "        artist_id = artist['id']\n",
    "        artist_name = artist['name']\n",
    "\n",
    "        # artist info\n",
    "        artist_info = sp.artist(artist_id)\n",
    "        # get more artist info (genres, etc.)\n",
    "        # https://stackoverflow.com/questions/61624487/extract-artist-genre-and-song-release-date-using-spotipy\n",
    "        artist_info2 = sp.artist(artist_info[\"external_urls\"][\"spotify\"])\n",
    "        \n",
    "        if artist_id not in artists_data:\n",
    "            rowdata = {}\n",
    "            rowdata['id'] = artist_id\n",
    "            rowdata['name'] = artist_name\n",
    "            genres = ';'.join(sorted(artist_info2[\"genres\"]))\n",
    "            rowdata['genres'] = genres\n",
    "            rowdata['popularity'] = artist_info['popularity']\n",
    "            rowdata['followers'] = artist_info['followers']['total']\n",
    "            rowdata['url'] = artist_info['external_urls']['spotify']\n",
    "            artists_data[artist_id] = rowdata\n",
    "        \n",
    "    ### ----------------------------------------------------------------------------------------\n",
    "    ### 3. edges for track-artist.\n",
    "    for artist in track['artists']:\n",
    "        artist_id = artist['id']\n",
    "        network_data.append({\n",
    "            'date': track_date, # release date\n",
    "            'track_id': track_id,\n",
    "            'artist_id': artist_id\n",
    "        })\n",
    "    \n",
    "### Combine all results.\n",
    "index_cols = ['id','date','name','url']\n",
    "df_tracks = pd.DataFrame(tracks_data).T.reset_index().drop(columns=['id']).rename(columns={'index': 'id'})\n",
    "df_tracks = df_tracks[index_cols + [c for c in df_tracks if c not in index_cols]]\n",
    "df_artists = pd.DataFrame(artists_data).T.reset_index().drop(columns=['id']).rename(columns={'index': 'id'})\n",
    "df_network = pd.DataFrame(network_data)\n",
    "for df in [df_tracks, df_artists, df_network]:\n",
    "    df.insert(0, 'scrape_time', CURR_TIME)"
   ]
  },
  {
   "cell_type": "code",
   "execution_count": null,
   "id": "b50181fe-bfdf-41e0-bb32-4225c0d22e34",
   "metadata": {},
   "outputs": [],
   "source": []
  }
 ],
 "metadata": {
  "kernelspec": {
   "display_name": "spotification",
   "language": "python",
   "name": "spotification"
  },
  "language_info": {
   "codemirror_mode": {
    "name": "ipython",
    "version": 3
   },
   "file_extension": ".py",
   "mimetype": "text/x-python",
   "name": "python",
   "nbconvert_exporter": "python",
   "pygments_lexer": "ipython3",
   "version": "3.10.12"
  }
 },
 "nbformat": 4,
 "nbformat_minor": 5
}
